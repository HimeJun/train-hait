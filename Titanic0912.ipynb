{
 "cells": [
  {
   "cell_type": "markdown",
   "metadata": {},
   "source": [
    "# ライブラリのインポート"
   ]
  },
  {
   "cell_type": "code",
   "execution_count": null,
   "metadata": {},
   "outputs": [],
   "source": [
    "# # ライブラリのインポート\n",
    "# import pandas as pd\n",
    "# import numpy as np\n",
    "# import matplotlib.pyplot as plt\n",
    "# % matplotlib inline\n",
    "\n",
    "# from sklearn.model_selection import train_test_split\n",
    "# from sklearn.preprocessing import StandardScaler\n",
    "# from sklearn.svm import SVC\n",
    "# from sklearn import metrics"
   ]
  },
  {
   "cell_type": "markdown",
   "metadata": {},
   "source": [
    "# データの読み込み"
   ]
  },
  {
   "cell_type": "code",
   "execution_count": null,
   "metadata": {},
   "outputs": [],
   "source": [
    "# # trainデータ\n",
    "# train = pd.read_csv('train.csv')\n",
    "# # testデータ\n",
    "# test = pd.read_csv('test.csv')\n",
    "# # サンプル提出ファイル\n",
    "# sample_file = pd.read_csv('gender_submission.csv')"
   ]
  },
  {
   "cell_type": "markdown",
   "metadata": {},
   "source": [
    "# データの観察"
   ]
  },
  {
   "cell_type": "code",
   "execution_count": null,
   "metadata": {},
   "outputs": [],
   "source": [
    "# train.head()"
   ]
  },
  {
   "cell_type": "code",
   "execution_count": null,
   "metadata": {},
   "outputs": [],
   "source": [
    "# test.head()"
   ]
  },
  {
   "cell_type": "code",
   "execution_count": null,
   "metadata": {},
   "outputs": [],
   "source": [
    "# print('trainデータの大きさ' + str(train.shape))\n",
    "# print(train.isnull().sum())\n",
    "# print('\\n')\n",
    "# print('testデータの大きさ' + str(test.shape))\n",
    "# print(test.isnull().sum())"
   ]
  },
  {
   "cell_type": "code",
   "execution_count": null,
   "metadata": {},
   "outputs": [],
   "source": [
    "# # 目的変数'Survived'の分布\n",
    "# plt.title('Survived')\n",
    "# plt.hist(train['Survived'], bins = 2, rwidth = 0.8);"
   ]
  },
  {
   "cell_type": "markdown",
   "metadata": {},
   "source": [
    "# 前処理"
   ]
  },
  {
   "cell_type": "code",
   "execution_count": null,
   "metadata": {
    "scrolled": true
   },
   "outputs": [],
   "source": [
    "# # 'Cabin'は欠損値が多いので、削除\n",
    "# train = train.drop('Cabin', axis = 1)\n",
    "# test = test.drop('Cabin', axis = 1)\n",
    "# # 'Age'の欠損値を平均値補完\n",
    "# train['Age'] = train['Age'].fillna(train['Age'].mean())\n",
    "# test['Age'] = test['Age'].fillna(test['Age'].mean())\n",
    "# # 'Sex'をマッピング\n",
    "# sex_mapping = {'male':0, 'female':1}\n",
    "# train['Sex'] = train['Sex'].map(sex_mapping)\n",
    "# test['Sex'] = test['Sex'].map(sex_mapping)"
   ]
  },
  {
   "cell_type": "markdown",
   "metadata": {},
   "source": [
    "# データの取り出し・標準化・分割"
   ]
  },
  {
   "cell_type": "code",
   "execution_count": null,
   "metadata": {},
   "outputs": [],
   "source": [
    "# # X, yにデータを代入\n",
    "# X = train.loc[:, ['Sex', 'Age', 'SibSp', 'Parch']].values\n",
    "# y = train.loc[:, ['Survived']].values.reshape(-1)\n",
    "\n",
    "# # データの標準化\n",
    "# scaler = StandardScaler()\n",
    "# X_std = scaler.fit_transform(X)\n",
    "\n",
    "# # ホールド・アウト法による分割\n",
    "# X_train, X_test, y_train, y_test = train_test_split(X_std, y, test_size=0.3, random_state=0)"
   ]
  },
  {
   "cell_type": "markdown",
   "metadata": {},
   "source": [
    "# SVMで学習・精度算出"
   ]
  },
  {
   "cell_type": "code",
   "execution_count": null,
   "metadata": {},
   "outputs": [],
   "source": [
    "# # カーネルSVMによる学習\n",
    "# # gamma: 決定曲線の複雑さ\n",
    "# # C: 誤分類への厳しさ\n",
    "# svm = SVC(kernel='rbf', gamma=0.1, C=10)\n",
    "# svm.fit(X_train, y_train)\n",
    "# print('trainデータ：' + str(metrics.accuracy_score(y_train, svm.predict(X_train))))\n",
    "# print('testデータ：' + str(metrics.accuracy_score(y_test, svm.predict(X_test))))"
   ]
  },
  {
   "cell_type": "markdown",
   "metadata": {},
   "source": [
    "# 配布されたテストデータで予測・提出"
   ]
  },
  {
   "cell_type": "code",
   "execution_count": null,
   "metadata": {},
   "outputs": [],
   "source": [
    "# # testデータからデータの取り出し\n",
    "# test_data = test.loc[:, ['Sex', 'Age', 'SibSp', 'Parch']].values\n",
    "# # 標準化\n",
    "# scaler = StandardScaler()\n",
    "# test_data_std = scaler.fit_transform(test_data)\n",
    "# # 提出データの予測\n",
    "# y_pred = svm.predict(test_data_std)"
   ]
  },
  {
   "cell_type": "code",
   "execution_count": null,
   "metadata": {},
   "outputs": [],
   "source": [
    "# # 提出csvファイルの作成\n",
    "# submit_file = pd.DataFrame({'PassengerId' : test['PassengerId'], 'Survived' : y_pred})\n",
    "# submit_file.to_csv('submit.csv', index = False)"
   ]
  }
 ],
 "metadata": {
  "kernelspec": {
   "display_name": "Python 3",
   "language": "python",
   "name": "python3"
  },
  "language_info": {
   "codemirror_mode": {
    "name": "ipython",
    "version": 3
   },
   "file_extension": ".py",
   "mimetype": "text/x-python",
   "name": "python",
   "nbconvert_exporter": "python",
   "pygments_lexer": "ipython3",
   "version": "3.6.5"
  }
 },
 "nbformat": 4,
 "nbformat_minor": 2
}
